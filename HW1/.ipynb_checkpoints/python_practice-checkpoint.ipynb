{
 "cells": [
  {
   "cell_type": "markdown",
   "metadata": {},
   "source": [
    "# <center>HW2</center> #\n",
    "####  106060000 XXX\n",
    "***"
   ]
  },
  {
   "cell_type": "markdown",
   "metadata": {},
   "source": [
    "## <u>Question 1</u>"
   ]
  },
  {
   "cell_type": "markdown",
   "metadata": {},
   "source": [
    "### Implementation\n",
    "* 利用課堂上所教學的先透過random library產生出1-100之random number\n",
    "* 接著透過while loop來設定條件直到player猜對為止\n",
    "* 在while loop內透過if else來判斷player猜的數字太高或者太低\n",
    "* 利用counter來算出最後猜對時player總共猜了幾次<br>\n",
    "..........................<br>\n",
    "..........................<br>\n",
    "..........................<br>\n",
    "..........................<br>"
   ]
  },
  {
   "cell_type": "markdown",
   "metadata": {},
   "source": [
    "### Result"
   ]
  },
  {
   "cell_type": "code",
   "execution_count": null,
   "metadata": {},
   "outputs": [
    {
     "name": "stdout",
     "output_type": "stream",
     "text": [
      "What's your guess?50\n",
      "Too low!\n",
      "What's your guess?80\n",
      "Too high!\n",
      "What's your guess?70\n",
      "Too high!\n",
      "What's your guess?65\n",
      "Too low!\n"
     ]
    }
   ],
   "source": [
    "import random\n",
    "\n",
    "number = random.randint(1,100)\n",
    "guess = 0\n",
    "count = 0\n",
    "\n",
    "while guess != number and guess != \"exit\":\n",
    "    guess = input(\"What's your guess?\")\n",
    "    \n",
    "    if guess == \"exit\":\n",
    "        break\n",
    "    \n",
    "    guess = int(guess)\n",
    "    count += 1\n",
    "    \n",
    "    if guess < number:\n",
    "        print(\"Too low!\")\n",
    "    elif guess > number:\n",
    "        print(\"Too high!\")\n",
    "    else:\n",
    "        print(\"You got it!\")\n",
    "        print(\"And it only took you\",count,\"tries!\")"
   ]
  },
  {
   "cell_type": "markdown",
   "metadata": {},
   "source": [
    "### Discussion"
   ]
  },
  {
   "cell_type": "markdown",
   "metadata": {},
   "source": [
    "從這個練習當中,我學習到了如何在python中import library(import random),<br>\n",
    "接下來在產生1到100的亂數時寫了random.randint(1,100),<br>\n",
    "因為有時候python在寫迴圈的時候loop產生的數字不包含最後一個數字,<br>\n",
    "例如 for i in range(10) 只會產生0-9的值給i<br>\n",
    "所以在使用一些library時也需注意用法,<br>\n",
    "故從python官方可以看到:<br>\n",
    "random.randint(a, b)<br>\n",
    "Return a random integer N such that a <= N <= b.<br>\n",
    "所以想產生1-100 random即可以直接a=1, b=100<br>\n",
    "<br>\n",
    "最後透過while and for loop來完成猜數字遊戲的實現<br>\n",
    "在這過程中也學習到了python中的coding format,例如要寫while內部即要空4個space等等的細節,<br>\n",
    "雖然在撰寫過程中出現了一些bug, 例如input進來要str轉換成int等等小問題,<br>\n",
    "但在最後都能順利完成也學習到了許多!<br>"
   ]
  },
  {
   "cell_type": "markdown",
   "metadata": {
    "collapsed": true
   },
   "source": [
    "## <u>Question 2</u>"
   ]
  },
  {
   "cell_type": "markdown",
   "metadata": {},
   "source": [
    "### Implementation\n",
    "* 利用課堂上所教學的方式,先將data.csv進行讀檔 `csv.reader()`\n",
    "* data.csv裡面的資料為2x20的陣列,將csv的資料存進array中\n",
    "* 因為讀進來的檔案為字串資料,所以要將型態轉成`float`的型態\n",
    "* 判斷array裡面負數之數量有多少\n",
    "* 將array從2x20利用`np.vsplit`切成1x10的array\n",
    "* 利用`plt.scatter(X,Y)`畫出對應到X,Y軸的點\n",
    "<br>..................\n",
    "<br>..................\n",
    "<br>.................."
   ]
  },
  {
   "cell_type": "markdown",
   "metadata": {},
   "source": [
    "### Result"
   ]
  },
  {
   "cell_type": "code",
   "execution_count": 10,
   "metadata": {},
   "outputs": [
    {
     "name": "stdout",
     "output_type": "stream",
     "text": [
      "negative numbers: 21\n"
     ]
    },
    {
     "data": {
      "text/plain": [
       "<matplotlib.collections.PathCollection at 0x1b89b312390>"
      ]
     },
     "execution_count": 10,
     "metadata": {},
     "output_type": "execute_result"
    },
    {
     "data": {
      "image/png": "[encoded data removed]",
      "text/plain": [
       "<Figure size 432x288 with 1 Axes>"
      ]
     },
     "metadata": {},
     "output_type": "display_data"
    }
   ],
   "source": [
    "import csv\n",
    "import numpy as np\n",
    "import matplotlib.pyplot as plt\n",
    "B=[]\n",
    "num_2=0\n",
    "f = open('data.csv', 'r')\n",
    "file_read=csv.reader(f)\n",
    "for row in file_read :\n",
    "    B.append(row)\n",
    "f.close()\n",
    "B = np.array(B,dtype = float)\n",
    "\n",
    "C=np.where(B < 0, 1, 0)\n",
    "num=np.sum(C)\n",
    "\n",
    "for i in range(2):\n",
    "    for j in range(20):\n",
    "        if (B[i,j]<0):\n",
    "            num_2=num_2+1\n",
    "        #print(B[i,j])\n",
    "\n",
    "\n",
    "print(\"negative numbers:\",num)        \n",
    "\n",
    "[X,Y]=np.vsplit(B, 2)\n",
    "plt.scatter(X,Y)"
   ]
  },
  {
   "cell_type": "markdown",
   "metadata": {},
   "source": [
    "### Discussion"
   ]
  },
  {
   "cell_type": "markdown",
   "metadata": {},
   "source": [
    "從這個練習當中,學習到從csv的讀檔方式,<br>\n",
    "還有在讀檔進來後,資料一直無法使用,<br>\n",
    "去找了方法才知道,讀檔進來的型態為字串型態<br>\n",
    "需要轉成float的型態才能做運算(因為之後要判別數字的正負)<br>\n",
    "利用numpy去找去有幾個負數,<br>\n",
    "再練習中更熟悉numpy的用法,<br>\n",
    "<br>\n",
    "第二小題,將array分割成1x10,<br>\n",
    "學習到vsplit的用法<br>\n",
    "最後要畫出對應到的x,y軸的點<br>\n",
    "了解到如何用matplotlib畫圖<br>\n",
    "經過這次的練習,又更熟悉python!<br>\n",
    "........................<br>\n",
    "........................<br>\n",
    "........................<br>"
   ]
  }
 ],
 "metadata": {
  "anaconda-cloud": {},
  "kernelspec": {
   "display_name": "Python 3",
   "language": "python",
   "name": "python3"
  },
  "language_info": {
   "codemirror_mode": {
    "name": "ipython",
    "version": 3
   },
   "file_extension": ".py",
   "mimetype": "text/x-python",
   "name": "python",
   "nbconvert_exporter": "python",
   "pygments_lexer": "ipython3",
   "version": "3.8.5"
  }
 },
 "nbformat": 4,
 "nbformat_minor": 2
}
